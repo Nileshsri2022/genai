{
  "nbformat": 4,
  "nbformat_minor": 0,
  "metadata": {
    "colab": {
      "provenance": [],
      "include_colab_link": true
    },
    "kernelspec": {
      "name": "python3",
      "display_name": "Python 3"
    },
    "language_info": {
      "name": "python"
    }
  },
  "cells": [
    {
      "cell_type": "markdown",
      "metadata": {
        "id": "view-in-github",
        "colab_type": "text"
      },
      "source": [
        "<a href=\"https://colab.research.google.com/github/Nileshsri2022/genai/blob/main/LLAMA_3_1_Groq_and_Langchain.ipynb\" target=\"_parent\"><img src=\"https://colab.research.google.com/assets/colab-badge.svg\" alt=\"Open In Colab\"/></a>"
      ]
    },
    {
      "cell_type": "markdown",
      "source": [
        "**Accessing Llama 3.1 form groq**"
      ],
      "metadata": {
        "id": "ES_ra-THlA0e"
      }
    },
    {
      "cell_type": "code",
      "execution_count": 1,
      "metadata": {
        "id": "2z8kIGenhG9v",
        "colab": {
          "base_uri": "https://localhost:8080/"
        },
        "outputId": "3356af09-d93a-45a9-da07-9d0c9024c7f1"
      },
      "outputs": [
        {
          "output_type": "stream",
          "name": "stdout",
          "text": [
            "Collecting groq==0.13.1\n",
            "  Downloading groq-0.13.1-py3-none-any.whl.metadata (14 kB)\n",
            "Requirement already satisfied: anyio<5,>=3.5.0 in /usr/local/lib/python3.10/dist-packages (from groq==0.13.1) (3.7.1)\n",
            "Requirement already satisfied: distro<2,>=1.7.0 in /usr/local/lib/python3.10/dist-packages (from groq==0.13.1) (1.9.0)\n",
            "Requirement already satisfied: httpx<1,>=0.23.0 in /usr/local/lib/python3.10/dist-packages (from groq==0.13.1) (0.28.1)\n",
            "Requirement already satisfied: pydantic<3,>=1.9.0 in /usr/local/lib/python3.10/dist-packages (from groq==0.13.1) (2.10.3)\n",
            "Requirement already satisfied: sniffio in /usr/local/lib/python3.10/dist-packages (from groq==0.13.1) (1.3.1)\n",
            "Requirement already satisfied: typing-extensions<5,>=4.10 in /usr/local/lib/python3.10/dist-packages (from groq==0.13.1) (4.12.2)\n",
            "Requirement already satisfied: idna>=2.8 in /usr/local/lib/python3.10/dist-packages (from anyio<5,>=3.5.0->groq==0.13.1) (3.10)\n",
            "Requirement already satisfied: exceptiongroup in /usr/local/lib/python3.10/dist-packages (from anyio<5,>=3.5.0->groq==0.13.1) (1.2.2)\n",
            "Requirement already satisfied: certifi in /usr/local/lib/python3.10/dist-packages (from httpx<1,>=0.23.0->groq==0.13.1) (2024.12.14)\n",
            "Requirement already satisfied: httpcore==1.* in /usr/local/lib/python3.10/dist-packages (from httpx<1,>=0.23.0->groq==0.13.1) (1.0.7)\n",
            "Requirement already satisfied: h11<0.15,>=0.13 in /usr/local/lib/python3.10/dist-packages (from httpcore==1.*->httpx<1,>=0.23.0->groq==0.13.1) (0.14.0)\n",
            "Requirement already satisfied: annotated-types>=0.6.0 in /usr/local/lib/python3.10/dist-packages (from pydantic<3,>=1.9.0->groq==0.13.1) (0.7.0)\n",
            "Requirement already satisfied: pydantic-core==2.27.1 in /usr/local/lib/python3.10/dist-packages (from pydantic<3,>=1.9.0->groq==0.13.1) (2.27.1)\n",
            "Downloading groq-0.13.1-py3-none-any.whl (109 kB)\n",
            "\u001b[?25l   \u001b[90m━━━━━━━━━━━━━━━━━━━━━━━━━━━━━━━━━━━━━━━━\u001b[0m \u001b[32m0.0/109.1 kB\u001b[0m \u001b[31m?\u001b[0m eta \u001b[36m-:--:--\u001b[0m\r\u001b[2K   \u001b[90m━━━━━━━━━━━━━━━━━━━━━━━━━━━━━━━━━━━━━━━━\u001b[0m \u001b[32m109.1/109.1 kB\u001b[0m \u001b[31m6.1 MB/s\u001b[0m eta \u001b[36m0:00:00\u001b[0m\n",
            "\u001b[?25hInstalling collected packages: groq\n",
            "Successfully installed groq-0.13.1\n"
          ]
        }
      ],
      "source": [
        "!pip install groq==0.13.1"
      ]
    },
    {
      "cell_type": "code",
      "source": [
        "import os"
      ],
      "metadata": {
        "id": "EGTQFEjbjMUI"
      },
      "execution_count": 2,
      "outputs": []
    },
    {
      "cell_type": "code",
      "source": [
        "os.environ[\"GROQ_API_KEY\"] = \"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\""
      ],
      "metadata": {
        "id": "bO1WRv_DjlrS"
      },
      "execution_count": 3,
      "outputs": []
    },
    {
      "cell_type": "code",
      "source": [
        "from groq import Groq"
      ],
      "metadata": {
        "id": "SS65scELju8U"
      },
      "execution_count": 4,
      "outputs": []
    },
    {
      "cell_type": "code",
      "source": [
        "client = Groq()"
      ],
      "metadata": {
        "id": "TdY3cjO-jzLk"
      },
      "execution_count": 5,
      "outputs": []
    },
    {
      "cell_type": "code",
      "source": [
        "response = client.chat.completions.create(\n",
        "    messages = [\n",
        "        {\"role\": \"user\", \"content\": \"Give me the first 20 terms of fibonacci series\"}\n",
        "    ],\n",
        "    model = \"llama-3.1-8b-instant\"\n",
        ")\n"
      ],
      "metadata": {
        "id": "5-n0UX7Sj1KK"
      },
      "execution_count": 6,
      "outputs": []
    },
    {
      "cell_type": "code",
      "source": [
        "response"
      ],
      "metadata": {
        "colab": {
          "base_uri": "https://localhost:8080/"
        },
        "id": "VbUXcrXGkosE",
        "outputId": "e8da8706-2144-435c-e591-46ea5b79d354"
      },
      "execution_count": 7,
      "outputs": [
        {
          "output_type": "execute_result",
          "data": {
            "text/plain": [
              "ChatCompletion(id='chatcmpl-792222bc-d39b-498a-bc71-50982019a295', choices=[Choice(finish_reason='stop', index=0, logprobs=None, message=ChatCompletionMessage(content='The Fibonacci series is a sequence of numbers in which each number is the sum of the two preceding numbers. Here are the first 20 terms:\\n\\n1. 0\\n2. 1\\n3. 1\\n4. 2\\n5. 3\\n6. 5\\n7. 8\\n8. 13\\n9. 21\\n10. 34\\n11. 55\\n12. 89\\n13. 144\\n14. 233\\n15. 377\\n16. 610\\n17. 985\\n18. 1597\\n19. 2584\\n20. 4181', role='assistant', function_call=None, tool_calls=None))], created=1735476119, model='llama-3.1-8b-instant', object='chat.completion', system_fingerprint='fp_9cb648b966', usage=CompletionUsage(completion_tokens=132, prompt_tokens=45, total_tokens=177, completion_time=0.176, prompt_time=0.00406621, queue_time=0.017532949, total_time=0.18006621), x_groq={'id': 'req_01jg9701hae88ba7ef9hr1h9d0'})"
            ]
          },
          "metadata": {},
          "execution_count": 7
        }
      ]
    },
    {
      "cell_type": "code",
      "source": [
        "output = response.choices[0].message.content\n",
        "print(output)"
      ],
      "metadata": {
        "colab": {
          "base_uri": "https://localhost:8080/"
        },
        "id": "gfs736sekshG",
        "outputId": "f1ac6d33-25f5-40ff-c82b-b97111ae146b"
      },
      "execution_count": 8,
      "outputs": [
        {
          "output_type": "stream",
          "name": "stdout",
          "text": [
            "The Fibonacci series is a sequence of numbers in which each number is the sum of the two preceding numbers. Here are the first 20 terms:\n",
            "\n",
            "1. 0\n",
            "2. 1\n",
            "3. 1\n",
            "4. 2\n",
            "5. 3\n",
            "6. 5\n",
            "7. 8\n",
            "8. 13\n",
            "9. 21\n",
            "10. 34\n",
            "11. 55\n",
            "12. 89\n",
            "13. 144\n",
            "14. 233\n",
            "15. 377\n",
            "16. 610\n",
            "17. 985\n",
            "18. 1597\n",
            "19. 2584\n",
            "20. 4181\n"
          ]
        }
      ]
    },
    {
      "cell_type": "markdown",
      "source": [
        "**Accessing Llama 3.1 form langchain-groq**"
      ],
      "metadata": {
        "id": "qjm3OG2OlE4R"
      }
    },
    {
      "cell_type": "code",
      "source": [
        "!pip install langchain-groq==0.2.2"
      ],
      "metadata": {
        "colab": {
          "base_uri": "https://localhost:8080/"
        },
        "id": "252hrxUpk4mN",
        "outputId": "68c4e728-b8ed-4f64-fa70-33efa7fa43ff"
      },
      "execution_count": 9,
      "outputs": [
        {
          "output_type": "stream",
          "name": "stdout",
          "text": [
            "Collecting langchain-groq==0.2.2\n",
            "  Downloading langchain_groq-0.2.2-py3-none-any.whl.metadata (3.0 kB)\n",
            "Requirement already satisfied: groq<1,>=0.4.1 in /usr/local/lib/python3.10/dist-packages (from langchain-groq==0.2.2) (0.13.1)\n",
            "Collecting langchain-core<0.4.0,>=0.3.27 (from langchain-groq==0.2.2)\n",
            "  Downloading langchain_core-0.3.28-py3-none-any.whl.metadata (6.3 kB)\n",
            "Requirement already satisfied: anyio<5,>=3.5.0 in /usr/local/lib/python3.10/dist-packages (from groq<1,>=0.4.1->langchain-groq==0.2.2) (3.7.1)\n",
            "Requirement already satisfied: distro<2,>=1.7.0 in /usr/local/lib/python3.10/dist-packages (from groq<1,>=0.4.1->langchain-groq==0.2.2) (1.9.0)\n",
            "Requirement already satisfied: httpx<1,>=0.23.0 in /usr/local/lib/python3.10/dist-packages (from groq<1,>=0.4.1->langchain-groq==0.2.2) (0.28.1)\n",
            "Requirement already satisfied: pydantic<3,>=1.9.0 in /usr/local/lib/python3.10/dist-packages (from groq<1,>=0.4.1->langchain-groq==0.2.2) (2.10.3)\n",
            "Requirement already satisfied: sniffio in /usr/local/lib/python3.10/dist-packages (from groq<1,>=0.4.1->langchain-groq==0.2.2) (1.3.1)\n",
            "Requirement already satisfied: typing-extensions<5,>=4.10 in /usr/local/lib/python3.10/dist-packages (from groq<1,>=0.4.1->langchain-groq==0.2.2) (4.12.2)\n",
            "Requirement already satisfied: PyYAML>=5.3 in /usr/local/lib/python3.10/dist-packages (from langchain-core<0.4.0,>=0.3.27->langchain-groq==0.2.2) (6.0.2)\n",
            "Requirement already satisfied: jsonpatch<2.0,>=1.33 in /usr/local/lib/python3.10/dist-packages (from langchain-core<0.4.0,>=0.3.27->langchain-groq==0.2.2) (1.33)\n",
            "Requirement already satisfied: langsmith<0.3,>=0.1.125 in /usr/local/lib/python3.10/dist-packages (from langchain-core<0.4.0,>=0.3.27->langchain-groq==0.2.2) (0.2.3)\n",
            "Requirement already satisfied: packaging<25,>=23.2 in /usr/local/lib/python3.10/dist-packages (from langchain-core<0.4.0,>=0.3.27->langchain-groq==0.2.2) (24.2)\n",
            "Requirement already satisfied: tenacity!=8.4.0,<10.0.0,>=8.1.0 in /usr/local/lib/python3.10/dist-packages (from langchain-core<0.4.0,>=0.3.27->langchain-groq==0.2.2) (9.0.0)\n",
            "Requirement already satisfied: idna>=2.8 in /usr/local/lib/python3.10/dist-packages (from anyio<5,>=3.5.0->groq<1,>=0.4.1->langchain-groq==0.2.2) (3.10)\n",
            "Requirement already satisfied: exceptiongroup in /usr/local/lib/python3.10/dist-packages (from anyio<5,>=3.5.0->groq<1,>=0.4.1->langchain-groq==0.2.2) (1.2.2)\n",
            "Requirement already satisfied: certifi in /usr/local/lib/python3.10/dist-packages (from httpx<1,>=0.23.0->groq<1,>=0.4.1->langchain-groq==0.2.2) (2024.12.14)\n",
            "Requirement already satisfied: httpcore==1.* in /usr/local/lib/python3.10/dist-packages (from httpx<1,>=0.23.0->groq<1,>=0.4.1->langchain-groq==0.2.2) (1.0.7)\n",
            "Requirement already satisfied: h11<0.15,>=0.13 in /usr/local/lib/python3.10/dist-packages (from httpcore==1.*->httpx<1,>=0.23.0->groq<1,>=0.4.1->langchain-groq==0.2.2) (0.14.0)\n",
            "Requirement already satisfied: jsonpointer>=1.9 in /usr/local/lib/python3.10/dist-packages (from jsonpatch<2.0,>=1.33->langchain-core<0.4.0,>=0.3.27->langchain-groq==0.2.2) (3.0.0)\n",
            "Requirement already satisfied: orjson<4.0.0,>=3.9.14 in /usr/local/lib/python3.10/dist-packages (from langsmith<0.3,>=0.1.125->langchain-core<0.4.0,>=0.3.27->langchain-groq==0.2.2) (3.10.12)\n",
            "Requirement already satisfied: requests<3,>=2 in /usr/local/lib/python3.10/dist-packages (from langsmith<0.3,>=0.1.125->langchain-core<0.4.0,>=0.3.27->langchain-groq==0.2.2) (2.32.3)\n",
            "Requirement already satisfied: requests-toolbelt<2.0.0,>=1.0.0 in /usr/local/lib/python3.10/dist-packages (from langsmith<0.3,>=0.1.125->langchain-core<0.4.0,>=0.3.27->langchain-groq==0.2.2) (1.0.0)\n",
            "Requirement already satisfied: annotated-types>=0.6.0 in /usr/local/lib/python3.10/dist-packages (from pydantic<3,>=1.9.0->groq<1,>=0.4.1->langchain-groq==0.2.2) (0.7.0)\n",
            "Requirement already satisfied: pydantic-core==2.27.1 in /usr/local/lib/python3.10/dist-packages (from pydantic<3,>=1.9.0->groq<1,>=0.4.1->langchain-groq==0.2.2) (2.27.1)\n",
            "Requirement already satisfied: charset-normalizer<4,>=2 in /usr/local/lib/python3.10/dist-packages (from requests<3,>=2->langsmith<0.3,>=0.1.125->langchain-core<0.4.0,>=0.3.27->langchain-groq==0.2.2) (3.4.0)\n",
            "Requirement already satisfied: urllib3<3,>=1.21.1 in /usr/local/lib/python3.10/dist-packages (from requests<3,>=2->langsmith<0.3,>=0.1.125->langchain-core<0.4.0,>=0.3.27->langchain-groq==0.2.2) (2.2.3)\n",
            "Downloading langchain_groq-0.2.2-py3-none-any.whl (14 kB)\n",
            "Downloading langchain_core-0.3.28-py3-none-any.whl (411 kB)\n",
            "\u001b[2K   \u001b[90m━━━━━━━━━━━━━━━━━━━━━━━━━━━━━━━━━━━━━━━━\u001b[0m \u001b[32m411.6/411.6 kB\u001b[0m \u001b[31m12.7 MB/s\u001b[0m eta \u001b[36m0:00:00\u001b[0m\n",
            "\u001b[?25hInstalling collected packages: langchain-core, langchain-groq\n",
            "  Attempting uninstall: langchain-core\n",
            "    Found existing installation: langchain-core 0.3.25\n",
            "    Uninstalling langchain-core-0.3.25:\n",
            "      Successfully uninstalled langchain-core-0.3.25\n",
            "Successfully installed langchain-core-0.3.28 langchain-groq-0.2.2\n"
          ]
        }
      ]
    },
    {
      "cell_type": "code",
      "source": [
        "import os"
      ],
      "metadata": {
        "id": "38UA-SIylQcn"
      },
      "execution_count": 10,
      "outputs": []
    },
    {
      "cell_type": "code",
      "source": [
        "os.environ[\"GROQ_API_KEY\"] = \"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\""
      ],
      "metadata": {
        "id": "FL3mX5hAlLZs"
      },
      "execution_count": 14,
      "outputs": []
    },
    {
      "cell_type": "code",
      "source": [
        "from langchain_groq import ChatGroq"
      ],
      "metadata": {
        "id": "teXBNzvflUXp"
      },
      "execution_count": 15,
      "outputs": []
    },
    {
      "cell_type": "code",
      "source": [
        "llm = ChatGroq(\n",
        "    model = \"llama-3.1-8b-instant\",\n",
        "    temperature=0\n",
        ")"
      ],
      "metadata": {
        "id": "vEyQgi8QlaNo"
      },
      "execution_count": 16,
      "outputs": []
    },
    {
      "cell_type": "code",
      "source": [
        "response = llm.invoke(\"Give me the first 20 terms of fibonacci series\")"
      ],
      "metadata": {
        "id": "ffWLmFFNlmo0"
      },
      "execution_count": 17,
      "outputs": []
    },
    {
      "cell_type": "code",
      "source": [
        "response"
      ],
      "metadata": {
        "colab": {
          "base_uri": "https://localhost:8080/"
        },
        "id": "UM7KbMjflvQm",
        "outputId": "c6c2aebd-fedf-49e6-e425-007c1e047f4b"
      },
      "execution_count": 18,
      "outputs": [
        {
          "output_type": "execute_result",
          "data": {
            "text/plain": [
              "AIMessage(content=\"The Fibonacci series is a series of numbers in which each number is the sum of the two preceding ones, usually starting with 0 and 1. Here are the first 20 terms of the Fibonacci series:\\n\\n1. 0\\n2. 1\\n3. 1 (0 + 1)\\n4. 2 (1 + 1)\\n5. 3 (1 + 2)\\n6. 5 (2 + 3)\\n7. 8 (3 + 5)\\n8. 13 (5 + 8)\\n9. 21 (8 + 13)\\n10. 34 (13 + 21)\\n11. 55 (21 + 34)\\n12. 89 (34 + 55)\\n13. 144 (55 + 89)\\n14. 233 (89 + 144)\\n15. 377 (144 + 233)\\n16. 610 (233 + 377)\\n17. 985 (377 + 610)\\n18. 1597 (610 + 985)\\n19. 2584 (985 + 1597)\\n20. 4181 (1597 + 2584)\\n\\nNote that the Fibonacci series is an infinite sequence, but it's often truncated to a certain number of terms for practical purposes.\", additional_kwargs={}, response_metadata={'token_usage': {'completion_tokens': 264, 'prompt_tokens': 45, 'total_tokens': 309, 'completion_time': 0.352, 'prompt_time': 0.003863925, 'queue_time': 0.052366894000000004, 'total_time': 0.355863925}, 'model_name': 'llama-3.1-8b-instant', 'system_fingerprint': 'fp_c5e685ab6f', 'finish_reason': 'stop', 'logprobs': None}, id='run-048e92ca-6afb-4836-a482-909325128c4b-0', usage_metadata={'input_tokens': 45, 'output_tokens': 264, 'total_tokens': 309})"
            ]
          },
          "metadata": {},
          "execution_count": 18
        }
      ]
    },
    {
      "cell_type": "code",
      "source": [
        "output = response.content\n",
        "print(output)"
      ],
      "metadata": {
        "colab": {
          "base_uri": "https://localhost:8080/"
        },
        "id": "jB1wL5t1lwFi",
        "outputId": "75ff96bd-ca7d-4673-ceba-5380480a16eb"
      },
      "execution_count": 19,
      "outputs": [
        {
          "output_type": "stream",
          "name": "stdout",
          "text": [
            "The Fibonacci series is a series of numbers in which each number is the sum of the two preceding ones, usually starting with 0 and 1. Here are the first 20 terms of the Fibonacci series:\n",
            "\n",
            "1. 0\n",
            "2. 1\n",
            "3. 1 (0 + 1)\n",
            "4. 2 (1 + 1)\n",
            "5. 3 (1 + 2)\n",
            "6. 5 (2 + 3)\n",
            "7. 8 (3 + 5)\n",
            "8. 13 (5 + 8)\n",
            "9. 21 (8 + 13)\n",
            "10. 34 (13 + 21)\n",
            "11. 55 (21 + 34)\n",
            "12. 89 (34 + 55)\n",
            "13. 144 (55 + 89)\n",
            "14. 233 (89 + 144)\n",
            "15. 377 (144 + 233)\n",
            "16. 610 (233 + 377)\n",
            "17. 985 (377 + 610)\n",
            "18. 1597 (610 + 985)\n",
            "19. 2584 (985 + 1597)\n",
            "20. 4181 (1597 + 2584)\n",
            "\n",
            "Note that the Fibonacci series is an infinite sequence, but it's often truncated to a certain number of terms for practical purposes.\n"
          ]
        }
      ]
    },
    {
      "cell_type": "code",
      "source": [],
      "metadata": {
        "id": "RYh44wMll000"
      },
      "execution_count": null,
      "outputs": []
    }
  ]
}