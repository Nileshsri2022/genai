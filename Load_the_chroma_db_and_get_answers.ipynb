{
  "cells": [
    {
      "cell_type": "markdown",
      "metadata": {
        "id": "view-in-github",
        "colab_type": "text"
      },
      "source": [
        "<a href=\"https://colab.research.google.com/github/Nileshsri2022/genai/blob/main/Load_the_chroma_db_and_get_answers.ipynb\" target=\"_parent\"><img src=\"https://colab.research.google.com/assets/colab-badge.svg\" alt=\"Open In Colab\"/></a>"
      ]
    },
    {
      "cell_type": "code",
      "execution_count": 11,
      "id": "20fd3f40-a275-48ad-b03d-b58ee2ada1f4",
      "metadata": {
        "id": "20fd3f40-a275-48ad-b03d-b58ee2ada1f4",
        "outputId": "bbfb5c2a-c828-4e09-a069-0c147e82be18",
        "colab": {
          "base_uri": "https://localhost:8080/",
          "height": 385
        }
      },
      "outputs": [
        {
          "output_type": "error",
          "ename": "ModuleNotFoundError",
          "evalue": "No module named 'langchain_chroma'",
          "traceback": [
            "\u001b[0;31m---------------------------------------------------------------------------\u001b[0m",
            "\u001b[0;31mModuleNotFoundError\u001b[0m                       Traceback (most recent call last)",
            "\u001b[0;32m<ipython-input-11-54a566d54d8c>\u001b[0m in \u001b[0;36m<cell line: 2>\u001b[0;34m()\u001b[0m\n\u001b[1;32m      1\u001b[0m \u001b[0;32mimport\u001b[0m \u001b[0mos\u001b[0m\u001b[0;34m\u001b[0m\u001b[0;34m\u001b[0m\u001b[0m\n\u001b[0;32m----> 2\u001b[0;31m \u001b[0;32mfrom\u001b[0m \u001b[0mlangchain_chroma\u001b[0m \u001b[0;32mimport\u001b[0m \u001b[0mChroma\u001b[0m\u001b[0;34m\u001b[0m\u001b[0;34m\u001b[0m\u001b[0m\n\u001b[0m\u001b[1;32m      3\u001b[0m \u001b[0;32mfrom\u001b[0m \u001b[0mlangchain_community\u001b[0m\u001b[0;34m.\u001b[0m\u001b[0membeddings\u001b[0m \u001b[0;32mimport\u001b[0m \u001b[0mHuggingFaceEmbeddings\u001b[0m\u001b[0;34m\u001b[0m\u001b[0;34m\u001b[0m\u001b[0m\n\u001b[1;32m      4\u001b[0m \u001b[0;32mfrom\u001b[0m \u001b[0mlangchain_groq\u001b[0m \u001b[0;32mimport\u001b[0m \u001b[0mChatGroq\u001b[0m\u001b[0;34m\u001b[0m\u001b[0;34m\u001b[0m\u001b[0m\n\u001b[1;32m      5\u001b[0m \u001b[0;32mfrom\u001b[0m \u001b[0mlangchain\u001b[0m\u001b[0;34m.\u001b[0m\u001b[0mchains\u001b[0m \u001b[0;32mimport\u001b[0m \u001b[0mRetrievalQA\u001b[0m\u001b[0;34m\u001b[0m\u001b[0;34m\u001b[0m\u001b[0m\n",
            "\u001b[0;31mModuleNotFoundError\u001b[0m: No module named 'langchain_chroma'",
            "",
            "\u001b[0;31m---------------------------------------------------------------------------\u001b[0;32m\nNOTE: If your import is failing due to a missing package, you can\nmanually install dependencies using either !pip or !apt.\n\nTo view examples of installing some common dependencies, click the\n\"Open Examples\" button below.\n\u001b[0;31m---------------------------------------------------------------------------\u001b[0m\n"
          ],
          "errorDetails": {
            "actions": [
              {
                "action": "open_url",
                "actionText": "Open Examples",
                "url": "/notebooks/snippets/importing_libraries.ipynb"
              }
            ]
          }
        }
      ],
      "source": [
        "import os\n",
        "from langchain_chroma import Chroma\n",
        "from langchain_community.embeddings import HuggingFaceEmbeddings\n",
        "from langchain_groq import ChatGroq\n",
        "from langchain.chains import RetrievalQA"
      ]
    },
    {
      "cell_type": "code",
      "source": [
        "from google.colab import drive\n",
        "drive.mount('/content/drive')"
      ],
      "metadata": {
        "id": "00uSY-t9xlmf",
        "outputId": "cebcf50f-19f7-4ce9-8081-50664e3b2b37",
        "colab": {
          "base_uri": "https://localhost:8080/"
        }
      },
      "id": "00uSY-t9xlmf",
      "execution_count": 1,
      "outputs": [
        {
          "output_type": "stream",
          "name": "stdout",
          "text": [
            "Mounted at /content/drive\n"
          ]
        }
      ]
    },
    {
      "cell_type": "code",
      "execution_count": null,
      "id": "0d951106-a030-423e-a541-8628463e7caa",
      "metadata": {
        "id": "0d951106-a030-423e-a541-8628463e7caa"
      },
      "outputs": [],
      "source": [
        "os.environ[\"GROQ_API_KEY\"] = \"your_groq_api_key\""
      ]
    },
    {
      "cell_type": "code",
      "execution_count": null,
      "id": "4c8daa44-d7ca-4322-9a17-43c2b2b2e267",
      "metadata": {
        "id": "4c8daa44-d7ca-4322-9a17-43c2b2b2e267",
        "outputId": "3710e1a4-2fa1-41cf-b7b3-30654f9a5ecc"
      },
      "outputs": [
        {
          "name": "stderr",
          "output_type": "stream",
          "text": [
            "/home/sid/jupyter/myenv/lib/python3.10/site-packages/langchain_core/_api/deprecation.py:139: LangChainDeprecationWarning: The class `HuggingFaceEmbeddings` was deprecated in LangChain 0.2.2 and will be removed in 0.3.0. An updated version of the class exists in the langchain-huggingface package and should be used instead. To use it run `pip install -U langchain-huggingface` and import as `from langchain_huggingface import HuggingFaceEmbeddings`.\n",
            "  warn_deprecated(\n",
            "/home/sid/jupyter/myenv/lib/python3.10/site-packages/sentence_transformers/cross_encoder/CrossEncoder.py:11: TqdmExperimentalWarning: Using `tqdm.autonotebook.tqdm` in notebook mode. Use `tqdm.tqdm` instead to force console mode (e.g. in jupyter console)\n",
            "  from tqdm.autonotebook import tqdm, trange\n"
          ]
        }
      ],
      "source": [
        "embeddings = HuggingFaceEmbeddings()"
      ]
    },
    {
      "cell_type": "code",
      "execution_count": null,
      "id": "9277ef74-3a12-49ec-8590-05a6ad4da145",
      "metadata": {
        "id": "9277ef74-3a12-49ec-8590-05a6ad4da145"
      },
      "outputs": [],
      "source": [
        "persist_directory = \"doc_db\""
      ]
    },
    {
      "cell_type": "code",
      "execution_count": null,
      "id": "4f5f0a0b-0cd0-4527-ad53-a5dfa9a35432",
      "metadata": {
        "id": "4f5f0a0b-0cd0-4527-ad53-a5dfa9a35432"
      },
      "outputs": [],
      "source": [
        "# load the chroma db\n",
        "vectordb = Chroma(\n",
        "    persist_directory=persist_directory,\n",
        "    embedding_function=embeddings\n",
        ")"
      ]
    },
    {
      "cell_type": "code",
      "execution_count": null,
      "id": "b332081f-fcc8-4490-a16f-40e02f54391e",
      "metadata": {
        "id": "b332081f-fcc8-4490-a16f-40e02f54391e"
      },
      "outputs": [],
      "source": [
        "# retriever\n",
        "retriever = vectordb.as_retriever()"
      ]
    },
    {
      "cell_type": "code",
      "execution_count": null,
      "id": "5cd70391-8f53-4f1e-a628-050b737d7611",
      "metadata": {
        "id": "5cd70391-8f53-4f1e-a628-050b737d7611"
      },
      "outputs": [],
      "source": [
        "# llm from groq\n",
        "llm = ChatGroq(\n",
        "    model=\"llama-3.1-70b-versatile\",\n",
        "    temperature=0\n",
        ")"
      ]
    },
    {
      "cell_type": "code",
      "execution_count": null,
      "id": "0c9bb7a6-bb9a-4bf9-be2c-d30772da12ae",
      "metadata": {
        "id": "0c9bb7a6-bb9a-4bf9-be2c-d30772da12ae"
      },
      "outputs": [],
      "source": [
        "# create a qa chain\n",
        "qa_chain = RetrievalQA.from_chain_type(\n",
        "    llm=llm,\n",
        "    chain_type=\"stuff\",\n",
        "    retriever=retriever,\n",
        "    return_source_documents=True\n",
        ")"
      ]
    },
    {
      "cell_type": "code",
      "execution_count": null,
      "id": "17378ca5-6d1b-4c90-925e-9592feb967b6",
      "metadata": {
        "id": "17378ca5-6d1b-4c90-925e-9592feb967b6",
        "outputId": "4a0fbf6d-e3cd-4c78-ee6e-0c059f9c7dea"
      },
      "outputs": [
        {
          "name": "stdout",
          "output_type": "stream",
          "text": [
            "The model architecture discussed in this paper is called the Transformer. It consists of an encoder and a decoder, both of which are composed of a stack of identical layers. Each layer has two sub-layers: a multi-head self-attention mechanism and a position-wise fully connected feed-forward network. The decoder also has a third sub-layer that performs multi-head attention over the output of the encoder stack. The model uses residual connections and layer normalization.\n",
            "******************************\n",
            "Source Document: attention_is_all_you_need.pdf\n"
          ]
        }
      ],
      "source": [
        "# invoke the qa chain and get a response for user query\n",
        "query = \"What is the model architecture discussed in this paper?\"\n",
        "response = qa_chain.invoke({\"query\": query})\n",
        "print(response[\"result\"])\n",
        "print(\"*\"*30)\n",
        "print(\"Source Document:\", response[\"source_documents\"][0].metadata[\"source\"])"
      ]
    },
    {
      "cell_type": "code",
      "execution_count": null,
      "id": "61079b82-aafe-4adb-b262-d4aa460e5621",
      "metadata": {
        "id": "61079b82-aafe-4adb-b262-d4aa460e5621"
      },
      "outputs": [],
      "source": []
    }
  ],
  "metadata": {
    "kernelspec": {
      "display_name": "Python 3 (ipykernel)",
      "language": "python",
      "name": "python3"
    },
    "language_info": {
      "codemirror_mode": {
        "name": "ipython",
        "version": 3
      },
      "file_extension": ".py",
      "mimetype": "text/x-python",
      "name": "python",
      "nbconvert_exporter": "python",
      "pygments_lexer": "ipython3",
      "version": "3.10.12"
    },
    "colab": {
      "provenance": [],
      "include_colab_link": true
    }
  },
  "nbformat": 4,
  "nbformat_minor": 5
}